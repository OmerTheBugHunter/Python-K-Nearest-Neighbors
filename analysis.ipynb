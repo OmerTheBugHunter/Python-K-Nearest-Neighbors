{
 "cells": [
  {
   "cell_type": "code",
   "execution_count": 1,
   "id": "b2cfe3da-c401-45b7-ac62-c10ca7f56387",
   "metadata": {},
   "outputs": [],
   "source": [
    "import knearestneighbor"
   ]
  },
  {
   "cell_type": "code",
   "execution_count": 2,
   "id": "8035bc33-d9b5-430c-9ccf-a0945259c1c6",
   "metadata": {},
   "outputs": [
    {
     "data": {
      "text/plain": [
       "Class                           0\n",
       "Alcohol                         0\n",
       "Malic acid                      0\n",
       "Ash                             0\n",
       "Alcalinity of ash               0\n",
       "Magnesium                       0\n",
       "Total phenols                   0\n",
       "Flavanoids                      0\n",
       "Nonflavanoid phenols            0\n",
       "Proanthocyanins                 0\n",
       "Color intensity                 0\n",
       "Hue                             0\n",
       "OD280/OD315 of diluted wines    0\n",
       "Proline                         0\n",
       "dtype: int64"
      ]
     },
     "execution_count": 2,
     "metadata": {},
     "output_type": "execute_result"
    }
   ],
   "source": [
    "# Read the data.\n",
    "import pandas as pd\n",
    "\n",
    "column_names = ['Class', 'Alcohol', 'Malic acid', 'Ash', 'Alcalinity of ash', 'Magnesium', 'Total phenols', 'Flavanoids', 'Nonflavanoid phenols', 'Proanthocyanins', 'Color intensity', 'Hue', 'OD280/OD315 of diluted wines', 'Proline']\n",
    "df = pd.read_csv(\"wine.data\", header=None, names=column_names)\n",
    "\n",
    "# Control the data if it has null variable(s).\n",
    "df.isnull().sum()"
   ]
  },
  {
   "cell_type": "code",
   "execution_count": 3,
   "id": "273d30b9-4394-4ae3-aa94-fb510a549c44",
   "metadata": {},
   "outputs": [],
   "source": [
    "# Seperate the \"feature\" and \"label\" columns. \n",
    "feature_columns = ['Alcohol', 'Malic acid', 'Ash', 'Alcalinity of ash', 'Magnesium', 'Total phenols', 'Flavanoids', 'Nonflavanoid phenols', 'Proanthocyanins', 'Color intensity', 'Hue', 'OD280/OD315 of diluted wines', 'Proline']\n",
    "label_column = ['Class']\n",
    "\n",
    "# Assign X and y due to these columns.\n",
    "X = df[feature_columns]\n",
    "y = df[label_column]"
   ]
  },
  {
   "cell_type": "code",
   "execution_count": 4,
   "id": "5cf3bfcc-8191-410f-ac07-34e77d84ee25",
   "metadata": {},
   "outputs": [],
   "source": [
    "# Split the data as train and test.\n",
    "from sklearn.model_selection import train_test_split\n",
    "\n",
    "# Default test rate is 20%.\n",
    "X_train, X_test, y_train, y_test = train_test_split(X, y, test_size=0.20, random_state=100)\n",
    "\n",
    "y_train = y_train.iloc[:, -1].values.flatten()\n",
    "y_test = y_test.iloc[:, -1].values.flatten()\n",
    "\n",
    "y_train = pd.DataFrame(y_train, columns=['Class'])\n",
    "y_test = pd.DataFrame(y_test, columns=['Class'])"
   ]
  },
  {
   "cell_type": "code",
   "execution_count": 5,
   "id": "14d3678c-7f09-438f-9d21-6bc3871b6806",
   "metadata": {},
   "outputs": [],
   "source": [
    "# Scale the data to avoid the errors resulting from the big data differencies.\n",
    "from sklearn.preprocessing import StandardScaler\n",
    "\n",
    "sc = StandardScaler()\n",
    "\n",
    "X_train = sc.fit_transform(X_train)\n",
    "X_test = sc.transform(X_test)\n",
    "\n",
    "X_train = pd.DataFrame(X_train, columns=[feature_columns])\n",
    "X_test = pd.DataFrame(X_test, columns=[feature_columns])"
   ]
  },
  {
   "cell_type": "code",
   "execution_count": 6,
   "id": "0f746036-7e55-42ad-b5e4-432d0516adaa",
   "metadata": {},
   "outputs": [],
   "source": [
    "# Run the algorithm.\n",
    "max_accuracy = [1, 90]\n",
    "accs = []\n",
    "\n",
    "for k in range(1,9,2):    \n",
    "    y_pred = knearestneighbor.knn(X_train, X_test, y_train, k)\n",
    "\n",
    "    y_test_values = y_test[\"Class\"].tolist()\n",
    "\n",
    "    acc = knearestneighbor.accuracy(y_test_values, y_pred)\n",
    "\n",
    "    if acc > max_accuracy[1]:\n",
    "        max_accuracy = [k, acc]\n",
    "\n",
    "    accs.append(acc)"
   ]
  },
  {
   "cell_type": "code",
   "execution_count": 7,
   "id": "d193161c-3bc1-42d3-be43-aa0876ca75fd",
   "metadata": {},
   "outputs": [
    {
     "data": {
      "image/png": "[encoded data removed]",
      "text/plain": [
       "<Figure size 640x480 with 1 Axes>"
      ]
     },
     "metadata": {},
     "output_type": "display_data"
    }
   ],
   "source": [
    "# Sketch K - Accuracy graph.\n",
    "import matplotlib.pyplot as plt\n",
    "\n",
    "k = range(1,9,2)\n",
    "k_list = list(k)\n",
    "\n",
    "plt.plot(k_list, accs, marker='o', linestyle='-', color='b', zorder=1)\n",
    "\n",
    "# Highlight the optimal k value point.\n",
    "plt.scatter(max_accuracy[0], max_accuracy[1], marker='o', color='r', s=100, zorder=3)\n",
    "plt.xlabel(\"K\")\n",
    "plt.ylabel(\"Accuracy\")\n",
    "plt.title(\"K - Accuracy\")\n",
    "plt.grid(True)\n",
    "plt.show()"
   ]
  },
  {
   "cell_type": "code",
   "execution_count": 8,
   "id": "f6b684b5-d97f-4d5a-8c69-61ef60bd43cc",
   "metadata": {},
   "outputs": [
    {
     "name": "stdout",
     "output_type": "stream",
     "text": [
      "[[ 8  0  0]\n",
      " [ 0 14  1]\n",
      " [ 0  0 13]]\n"
     ]
    }
   ],
   "source": [
    "# Create the Confusion Matrix.\n",
    "from sklearn.metrics import confusion_matrix\n",
    "\n",
    "y_pred = knearestneighbor.knn(X_train, X_test, y_train, 5)\n",
    "y_test_values = y_test[\"Class\"].tolist()\n",
    "\n",
    "cm = confusion_matrix(y_test_values, y_pred)\n",
    "print(cm)"
   ]
  },
  {
   "cell_type": "code",
   "execution_count": 9,
   "id": "cec5df15-baac-48d7-8c89-166d27d04ba3",
   "metadata": {},
   "outputs": [
    {
     "name": "stdout",
     "output_type": "stream",
     "text": [
      "              precision    recall  f1-score   support\n",
      "\n",
      "           1       1.00      1.00      1.00         8\n",
      "           2       1.00      0.93      0.97        15\n",
      "           3       0.93      1.00      0.96        13\n",
      "\n",
      "    accuracy                           0.97        36\n",
      "   macro avg       0.98      0.98      0.98        36\n",
      "weighted avg       0.97      0.97      0.97        36\n",
      "\n"
     ]
    }
   ],
   "source": [
    "# Create the Classification Report.\n",
    "from sklearn.metrics import classification_report\n",
    "\n",
    "print(classification_report(y_test_values, y_pred, labels=None, target_names=None, sample_weight=None, digits=2, output_dict=False, zero_division='warn'))"
   ]
  }
 ],
 "metadata": {
  "kernelspec": {
   "display_name": "Python 3 (ipykernel)",
   "language": "python",
   "name": "python3"
  },
  "language_info": {
   "codemirror_mode": {
    "name": "ipython",
    "version": 3
   },
   "file_extension": ".py",
   "mimetype": "text/x-python",
   "name": "python",
   "nbconvert_exporter": "python",
   "pygments_lexer": "ipython3",
   "version": "3.12.9"
  }
 },
 "nbformat": 4,
 "nbformat_minor": 5
}
